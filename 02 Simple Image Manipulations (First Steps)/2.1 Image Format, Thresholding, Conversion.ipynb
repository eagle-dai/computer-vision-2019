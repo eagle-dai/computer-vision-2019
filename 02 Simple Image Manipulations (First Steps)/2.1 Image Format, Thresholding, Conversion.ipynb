{
 "cells": [
  {
   "cell_type": "markdown",
   "metadata": {},
   "source": [
    "To convert a RGB image into gray-scale image, one converts the color values to a gray value L by adding\n",
    "the three components according to a specific ratio, for instance:\n",
    "\n",
    "L = 0.2989 · R + 0.5870 · G + 0.1140 · B"
   ]
  },
  {
   "cell_type": "code",
   "execution_count": 2,
   "metadata": {},
   "outputs": [
    {
     "ename": "SyntaxError",
     "evalue": "invalid character in identifier (<ipython-input-2-14e2b6229d66>, line 6)",
     "output_type": "error",
     "traceback": [
      "\u001b[1;36m  File \u001b[1;32m\"<ipython-input-2-14e2b6229d66>\"\u001b[1;36m, line \u001b[1;32m6\u001b[0m\n\u001b[1;33m    Irgb = imread(’KlausIohannis.jpg’) # loading the image\u001b[0m\n\u001b[1;37m                               ^\u001b[0m\n\u001b[1;31mSyntaxError\u001b[0m\u001b[1;31m:\u001b[0m invalid character in identifier\n"
     ]
    }
   ],
   "source": [
    "from numpy import arange, ones, histogram\n",
    "from skimage.io import imread\n",
    "from skimage.color import rgb2gray\n",
    "from scipy.signal import convolve2d\n",
    "\n",
    "Irgb = imread(’KlausIohannis.jpg’) # loading the image\n",
    "Igry = rgb2gray(Irgb) # convert to gray-scale\n",
    "IrgbCen = Irgb[100:500,400:700,:] # zoom into center\n",
    "Igreen = Irgb[:,:,2] # green channel only\n",
    "BWflw = Igry>0.3 # thresholding (black-white image)\n",
    "Iblur = convolve2d(Igry,ones((25,25))) # blurring the image\n"
   ]
  }
 ],
 "metadata": {
  "kernelspec": {
   "display_name": "Python 3",
   "language": "python",
   "name": "python3"
  },
  "language_info": {
   "codemirror_mode": {
    "name": "ipython",
    "version": 3
   },
   "file_extension": ".py",
   "mimetype": "text/x-python",
   "name": "python",
   "nbconvert_exporter": "python",
   "pygments_lexer": "ipython3",
   "version": "3.7.4"
  }
 },
 "nbformat": 4,
 "nbformat_minor": 2
}
